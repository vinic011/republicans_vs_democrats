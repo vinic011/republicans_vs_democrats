{
 "cells": [
  {
   "cell_type": "markdown",
   "id": "a5b12f2e",
   "metadata": {},
   "source": [
    "# Laboratório 3\n",
    "\n",
    "Aprendizado de Máquina Probabilístico\n",
    "\n",
    "*Aluno: Vinícius José de Menezes Pereira*"
   ]
  },
  {
   "cell_type": "code",
   "execution_count": 156,
   "id": "8297a881",
   "metadata": {},
   "outputs": [],
   "source": [
    "import pandas as pd\n",
    "import numpy as np\n",
    "import pgmpy"
   ]
  },
  {
   "cell_type": "code",
   "execution_count": 157,
   "id": "8a90a0be",
   "metadata": {},
   "outputs": [
    {
     "name": "stderr",
     "output_type": "stream",
     "text": [
      "C:\\Users\\vinic\\AppData\\Local\\Temp\\ipykernel_12884\\2734782249.py:1: FutureWarning: The error_bad_lines argument has been deprecated and will be removed in a future version. Use on_bad_lines in the future.\n",
      "\n",
      "\n",
      "  df =  pd.read_csv('republican_democrat.csv', encoding='utf-8', sep=\",\", error_bad_lines=False)\n",
      "C:\\Users\\vinic\\AppData\\Local\\Temp\\ipykernel_12884\\2734782249.py:2: FutureWarning: The error_bad_lines argument has been deprecated and will be removed in a future version. Use on_bad_lines in the future.\n",
      "\n",
      "\n",
      "  test = pd.read_csv('republican_democrat_test.csv', encoding='utf-8', sep=\",\", error_bad_lines=False)\n"
     ]
    }
   ],
   "source": [
    "df =  pd.read_csv('republican_democrat.csv', encoding='utf-8', sep=\",\", error_bad_lines=False) \n",
    "test = pd.read_csv('republican_democrat_test.csv', encoding='utf-8', sep=\",\", error_bad_lines=False) "
   ]
  },
  {
   "cell_type": "code",
   "execution_count": 158,
   "id": "b7902bd1",
   "metadata": {},
   "outputs": [],
   "source": [
    "df.columns = ['handicapped', 'water', 'budget', 'fee','religious','satellite','missile','immigration','synfuels',\n",
    "             'education','superfund','crime','exports','sa','vote']"
   ]
  },
  {
   "cell_type": "code",
   "execution_count": 159,
   "id": "7a7d4800",
   "metadata": {},
   "outputs": [],
   "source": [
    "test.columns = ['handicapped', 'water', 'budget', 'fee','religious','satellite','missile','immigration','synfuels',\n",
    "             'education','superfund','crime','exports','sa','id']"
   ]
  },
  {
   "cell_type": "markdown",
   "id": "6f0c646d",
   "metadata": {},
   "source": [
    "## Modelo Probabilístico"
   ]
  },
  {
   "cell_type": "markdown",
   "id": "e22faa36",
   "metadata": {},
   "source": [
    "Criando modelo de Bayes ingênuo, pois não foi percebida muita correlação explícita entre atributos"
   ]
  },
  {
   "cell_type": "code",
   "execution_count": 160,
   "id": "39346af3",
   "metadata": {},
   "outputs": [],
   "source": [
    "from pgmpy.models import NaiveBayes\n",
    "model = NaiveBayes()\n",
    "model.fit(df, 'vote')"
   ]
  },
  {
   "cell_type": "markdown",
   "id": "a709c720",
   "metadata": {},
   "source": [
    "## Criação de Ranking"
   ]
  },
  {
   "cell_type": "markdown",
   "id": "570832fa",
   "metadata": {},
   "source": [
    "Para cada linha do conjunto de dados do test foi adicionada a probabilidade de votar em republicanos"
   ]
  },
  {
   "cell_type": "code",
   "execution_count": 161,
   "id": "35807c4d",
   "metadata": {
    "scrolled": false
   },
   "outputs": [
    {
     "name": "stderr",
     "output_type": "stream",
     "text": [
      "Finding Elimination Order: : : 0it [00:00, ?it/s]\n",
      "0it [00:00, ?it/s]\n",
      "Finding Elimination Order: : : 0it [00:00, ?it/s]\n",
      "0it [00:00, ?it/s]\n",
      "Finding Elimination Order: : : 0it [00:00, ?it/s]\n",
      "0it [00:00, ?it/s]\n",
      "Finding Elimination Order: : : 0it [00:00, ?it/s]\n",
      "0it [00:00, ?it/s]\n",
      "Finding Elimination Order: : : 0it [00:00, ?it/s]\n",
      "0it [00:00, ?it/s]\n",
      "Finding Elimination Order: : : 0it [00:00, ?it/s]\n",
      "0it [00:00, ?it/s]\n",
      "Finding Elimination Order: : : 0it [00:00, ?it/s]\n",
      "0it [00:00, ?it/s]\n",
      "Finding Elimination Order: : : 0it [00:00, ?it/s]\n",
      "0it [00:00, ?it/s]\n",
      "Finding Elimination Order: : : 0it [00:00, ?it/s]\n",
      "0it [00:00, ?it/s]\n",
      "Finding Elimination Order: : : 0it [00:00, ?it/s]\n",
      "0it [00:00, ?it/s]\n",
      "Finding Elimination Order: : : 0it [00:00, ?it/s]\n",
      "0it [00:00, ?it/s]\n",
      "Finding Elimination Order: : : 0it [00:00, ?it/s]\n",
      "0it [00:00, ?it/s]\n",
      "Finding Elimination Order: : : 0it [00:00, ?it/s]\n",
      "0it [00:00, ?it/s]\n",
      "Finding Elimination Order: : : 0it [00:00, ?it/s]\n",
      "0it [00:00, ?it/s]\n",
      "Finding Elimination Order: : : 0it [00:00, ?it/s]\n",
      "0it [00:00, ?it/s]\n",
      "Finding Elimination Order: : : 0it [00:00, ?it/s]\n",
      "0it [00:00, ?it/s]\n",
      "Finding Elimination Order: : : 0it [00:00, ?it/s]\n",
      "0it [00:00, ?it/s]\n",
      "Finding Elimination Order: : : 0it [00:00, ?it/s]\n",
      "0it [00:00, ?it/s]\n",
      "Finding Elimination Order: : : 0it [00:00, ?it/s]\n",
      "0it [00:00, ?it/s]\n",
      "Finding Elimination Order: : : 0it [00:00, ?it/s]\n",
      "0it [00:00, ?it/s]\n"
     ]
    }
   ],
   "source": [
    "from pgmpy.inference import VariableElimination\n",
    "\n",
    "infer = VariableElimination(model)\n",
    "queries = test.iloc[:,:-1].to_dict(orient=\"records\")\n",
    "pr = []\n",
    "for i in range(len(test.index)):\n",
    "    r = infer.query(['vote'], evidence= queries[i]).values[1]\n",
    "    pr.append(r)   \n",
    "test['republican']= pr"
   ]
  },
  {
   "cell_type": "markdown",
   "id": "9ec9820a",
   "metadata": {},
   "source": [
    "Ordenção em ordem decrescente de votar em republicano"
   ]
  },
  {
   "cell_type": "code",
   "execution_count": 168,
   "id": "b2aaae76",
   "metadata": {
    "scrolled": true
   },
   "outputs": [],
   "source": [
    "test = test.sort_values(by=['republican'],ascending=False)"
   ]
  },
  {
   "cell_type": "code",
   "execution_count": 169,
   "id": "badba796",
   "metadata": {},
   "outputs": [
    {
     "data": {
      "text/html": [
       "<div>\n",
       "<style scoped>\n",
       "    .dataframe tbody tr th:only-of-type {\n",
       "        vertical-align: middle;\n",
       "    }\n",
       "\n",
       "    .dataframe tbody tr th {\n",
       "        vertical-align: top;\n",
       "    }\n",
       "\n",
       "    .dataframe thead th {\n",
       "        text-align: right;\n",
       "    }\n",
       "</style>\n",
       "<table border=\"1\" class=\"dataframe\">\n",
       "  <thead>\n",
       "    <tr style=\"text-align: right;\">\n",
       "      <th></th>\n",
       "      <th>id</th>\n",
       "      <th>republican</th>\n",
       "    </tr>\n",
       "  </thead>\n",
       "  <tbody>\n",
       "    <tr>\n",
       "      <th>7</th>\n",
       "      <td>108</td>\n",
       "      <td>9.999998e-01</td>\n",
       "    </tr>\n",
       "    <tr>\n",
       "      <th>11</th>\n",
       "      <td>112</td>\n",
       "      <td>9.999988e-01</td>\n",
       "    </tr>\n",
       "    <tr>\n",
       "      <th>17</th>\n",
       "      <td>118</td>\n",
       "      <td>9.999896e-01</td>\n",
       "    </tr>\n",
       "    <tr>\n",
       "      <th>9</th>\n",
       "      <td>110</td>\n",
       "      <td>9.999879e-01</td>\n",
       "    </tr>\n",
       "    <tr>\n",
       "      <th>5</th>\n",
       "      <td>106</td>\n",
       "      <td>9.999871e-01</td>\n",
       "    </tr>\n",
       "    <tr>\n",
       "      <th>19</th>\n",
       "      <td>120</td>\n",
       "      <td>9.998787e-01</td>\n",
       "    </tr>\n",
       "    <tr>\n",
       "      <th>1</th>\n",
       "      <td>102</td>\n",
       "      <td>9.996662e-01</td>\n",
       "    </tr>\n",
       "    <tr>\n",
       "      <th>15</th>\n",
       "      <td>116</td>\n",
       "      <td>9.984019e-01</td>\n",
       "    </tr>\n",
       "    <tr>\n",
       "      <th>13</th>\n",
       "      <td>114</td>\n",
       "      <td>8.991733e-01</td>\n",
       "    </tr>\n",
       "    <tr>\n",
       "      <th>3</th>\n",
       "      <td>104</td>\n",
       "      <td>8.408986e-01</td>\n",
       "    </tr>\n",
       "    <tr>\n",
       "      <th>6</th>\n",
       "      <td>107</td>\n",
       "      <td>2.067599e-06</td>\n",
       "    </tr>\n",
       "    <tr>\n",
       "      <th>2</th>\n",
       "      <td>103</td>\n",
       "      <td>1.148916e-06</td>\n",
       "    </tr>\n",
       "    <tr>\n",
       "      <th>12</th>\n",
       "      <td>113</td>\n",
       "      <td>8.312627e-07</td>\n",
       "    </tr>\n",
       "    <tr>\n",
       "      <th>10</th>\n",
       "      <td>111</td>\n",
       "      <td>5.618496e-07</td>\n",
       "    </tr>\n",
       "    <tr>\n",
       "      <th>18</th>\n",
       "      <td>119</td>\n",
       "      <td>1.061969e-07</td>\n",
       "    </tr>\n",
       "    <tr>\n",
       "      <th>4</th>\n",
       "      <td>105</td>\n",
       "      <td>1.139176e-08</td>\n",
       "    </tr>\n",
       "    <tr>\n",
       "      <th>0</th>\n",
       "      <td>101</td>\n",
       "      <td>1.139176e-08</td>\n",
       "    </tr>\n",
       "    <tr>\n",
       "      <th>14</th>\n",
       "      <td>115</td>\n",
       "      <td>1.103139e-08</td>\n",
       "    </tr>\n",
       "    <tr>\n",
       "      <th>8</th>\n",
       "      <td>109</td>\n",
       "      <td>5.814531e-09</td>\n",
       "    </tr>\n",
       "    <tr>\n",
       "      <th>16</th>\n",
       "      <td>117</td>\n",
       "      <td>8.710663e-10</td>\n",
       "    </tr>\n",
       "  </tbody>\n",
       "</table>\n",
       "</div>"
      ],
      "text/plain": [
       "     id    republican\n",
       "7   108  9.999998e-01\n",
       "11  112  9.999988e-01\n",
       "17  118  9.999896e-01\n",
       "9   110  9.999879e-01\n",
       "5   106  9.999871e-01\n",
       "19  120  9.998787e-01\n",
       "1   102  9.996662e-01\n",
       "15  116  9.984019e-01\n",
       "13  114  8.991733e-01\n",
       "3   104  8.408986e-01\n",
       "6   107  2.067599e-06\n",
       "2   103  1.148916e-06\n",
       "12  113  8.312627e-07\n",
       "10  111  5.618496e-07\n",
       "18  119  1.061969e-07\n",
       "4   105  1.139176e-08\n",
       "0   101  1.139176e-08\n",
       "14  115  1.103139e-08\n",
       "8   109  5.814531e-09\n",
       "16  117  8.710663e-10"
      ]
     },
     "execution_count": 169,
     "metadata": {},
     "output_type": "execute_result"
    }
   ],
   "source": [
    "test[['id','republican']]"
   ]
  }
 ],
 "metadata": {
  "kernelspec": {
   "display_name": "Python 3 (ipykernel)",
   "language": "python",
   "name": "python3"
  },
  "language_info": {
   "codemirror_mode": {
    "name": "ipython",
    "version": 3
   },
   "file_extension": ".py",
   "mimetype": "text/x-python",
   "name": "python",
   "nbconvert_exporter": "python",
   "pygments_lexer": "ipython3",
   "version": "3.9.7"
  }
 },
 "nbformat": 4,
 "nbformat_minor": 5
}
